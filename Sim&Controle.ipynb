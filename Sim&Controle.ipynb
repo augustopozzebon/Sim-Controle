{
 "cells": [
  {
   "cell_type": "code",
   "execution_count": 3,
   "metadata": {},
   "outputs": [],
   "source": [
    "import numpy as np\n",
    "\n",
    " # Funcao para calculo da atmosfera padrao ISA. Inclui variacao da\n",
    " # temperatura em relacao a condicao padrao.\n",
    " # Valida para altitudes entre 0 e 50.000 m. A referencia de altitude eh o\n",
    " # nivel medio do mar para a latitude de 45º. A gravidade de referencia eh\n",
    " # 9,80665 m/s^2.\n",
    " # Entradas:\n",
    " # H (m): altitude geopotencial\n",
    " # DT (ºC ou ºK): Variacao de temperatura em relacao a condicao padrao\n",
    " # Saidas (calculadas na altitude fornecida para a variacao de temperatura estipulada):\n",
    " # T (K): Temperatura\n",
    " # p (N/m^2): Pressao\n",
    " # rho (kg/m^3): Densidade\n",
    " # a (m/s): Velocidade do som\n",
    " # mu (kg/m.s): Viscosidade dinamica\n",
    " # Hp (m): Altitude pressao \n",
    " ## Constantes padrao\n",
    " \n"
   ]
  },
  {
   "cell_type": "code",
   "execution_count": 4,
   "metadata": {},
   "outputs": [],
   "source": [
    "def ISA(H,DT):\n",
    "     g0 = 9.80665\n",
    "     R = 287.053\n",
    "     gama = 1.4\n",
    "     mu0 = 1.7894e-05\n",
    " ## Tabelas da atmosfera padrao\n",
    "     HB = np.array([0,11000,20000,32000,47000])\n",
    "     HT = np.array([11000,20000,32000,47000,50000])\n",
    "     A = np.array([- 0.0065,0,0.001,0.0028,0])  \n",
    "     TB = np.array([288.15,216.65,216.65,228.65,270.65])\n",
    "     PB = np.array([101325,22632,5474.87,868.014,110.906])\n",
    " ## Correcao das tabelas de pressao e temperatura para a temperatura nao padrao\n",
    "     tb = TB + DT\n",
    "     pb=np.empty((5,1))\n",
    "     pb[0] = PB[0]\n",
    "     pb[1] = PB[0] * (TB[1] / TB[0]) ** (- g0 / (A[0] * R))\n",
    "     pb[2] = pb[0] * np.exp(- g0 * (HB[2] - HB[1]) / (R * TB[1]))\n",
    "     pb[3] = pb[1] * (TB[3] / TB[2]) ** (- g0 / (A[2] * R))\n",
    "     pb[4] = pb[2] * (TB[4] / TB[3]) ** (- g0 / (A[3] * R))\n",
    " ## Calculos do modelo de atmosfera padrao\n",
    "     if H < 0:\n",
    "         print('Cuidado, altitude negativa. O modelo ISA nao eh valido. Resultados para H=0.')\n",
    "         T = TB[0]\n",
    "         p = PB[0]\n",
    "         rho = p / (R * T)\n",
    "         a = np.sqrt(gama * R * T)\n",
    "         mu = mu0\n",
    "         Hp = 0\n",
    "     else:\n",
    "         if H > 50000:\n",
    "                 print('Cuidado, H>50.000 m. O modelo ISA nao eh valido. Resultados para H=50.000 m.')\n",
    "                 T = TB[4]\n",
    "                 p = pb[3] * np.exp(- g0 * (HT[4] - HB[4]) / (R * TB[4]))\n",
    "                 rho = p / (R * T)\n",
    "                 a = np.sqrt(gama * R * T)\n",
    "                 mu = mu0 * (T / TB[0]) * ((TB[0] + 110) / (T + 110))\n",
    "                 Hp = HB[4] - (R * TB[4] / g0) * np.log(p / pb[3])\n",
    "         else:\n",
    "             # Verifica em que camada a altitude fornecida se encontra\n",
    "             i = 0\n",
    "             while H - HT[i] > 0:\n",
    "                 i = i + 1\n",
    "             T = tb[i] + A[i] * (H - HB[i])\n",
    "             if (i == 1) or (i == 4):\n",
    "                 p = pb[i] * np.exp(- g0 * (H - HB[i]) / (R * tb[i]))\n",
    "             else:\n",
    "                 p = pb[i] * (T / tb[i]) ** (- g0 / (A[i] * R))\n",
    "                 rho = p / (R * T)\n",
    "                 a = np.sqrt(gama * R * T)\n",
    "                 mu = mu0 * (T / TB[0]) * ((TB[0] + 110) / (T + 110))\n",
    "             # Verifica em que camada da atmosfera padrao a pressao calculada se encontra\n",
    "             i = 0\n",
    "             while p - PB[i + 1] < 0:\n",
    "                 i = i + 1\n",
    "                 if i == 4:\n",
    "                     break\n",
    "             if (i == 1) or (i == 4):\n",
    "                 Hp = HB[i] - (R * TB[i] / g0) * np.log(p / PB[i])\n",
    "             else:\n",
    "                 Hp = HB[i] + (TB[i] / A[i]) * ((p / PB[i]) ** (- A[i] * R / g0) - 1)\n",
    "                 return T,p,rho,a,mu,Hp\n",
    "\n"
   ]
  },
  {
   "cell_type": "code",
   "execution_count": 5,
   "metadata": {},
   "outputs": [
    {
     "name": "stdout",
     "output_type": "stream",
     "text": [
      "Temperatura: 260.65 °C\n",
      "Pressao: 54638.38 Pa\n",
      "Densidade:  0.73 kg/m^3\n",
      "Altitude pressao : 4914.72 °C\n"
     ]
    }
   ],
   "source": [
    "\n",
    "T,p,rho,a,mu,Hp=ISA(5000,5)\n",
    "print(\"Temperatura: %5.2f °C\" % T)\n",
    "print(\"Pressao: %5.2f Pa\" % p)\n",
    "print(\"Densidade: %5.2f kg/m^3\" % rho)\n",
    "print(\"Altitude pressao : %5.2f °C\" % Hp)\n",
    "\n",
    "\n"
   ]
  }
 ],
 "metadata": {
  "kernelspec": {
   "display_name": "Python 3.9.12 ('base')",
   "language": "python",
   "name": "python3"
  },
  "language_info": {
   "codemirror_mode": {
    "name": "ipython",
    "version": 3
   },
   "file_extension": ".py",
   "mimetype": "text/x-python",
   "name": "python",
   "nbconvert_exporter": "python",
   "pygments_lexer": "ipython3",
   "version": "3.9.12"
  },
  "orig_nbformat": 4,
  "vscode": {
   "interpreter": {
    "hash": "4e36ca1afd36c0c56ae0a3be9033cd3abea28ab8cfaf02bd23a8ee9174ffb199"
   }
  }
 },
 "nbformat": 4,
 "nbformat_minor": 2
}
